{
 "cells": [
  {
   "cell_type": "markdown",
   "metadata": {},
   "source": [
    "# Prosper借贷分析（二）\n",
    "## 生成用户信用评级模型"
   ]
  },
  {
   "cell_type": "code",
   "execution_count": 1,
   "metadata": {},
   "outputs": [
    {
     "name": "stdout",
     "output_type": "stream",
     "text": [
      "Populating the interactive namespace from numpy and matplotlib\n"
     ]
    }
   ],
   "source": [
    "import pandas as pd\n",
    "import numpy as np\n",
    "import matplotlib.pyplot as plt\n",
    "import seaborn as sns\n",
    "%pylab inline"
   ]
  },
  {
   "cell_type": "code",
   "execution_count": 2,
   "metadata": {},
   "outputs": [
    {
     "name": "stdout",
     "output_type": "stream",
     "text": [
      "<class 'pandas.core.frame.DataFrame'>\n",
      "RangeIndex: 113937 entries, 0 to 113936\n",
      "Data columns (total 19 columns):\n",
      "ProsperRating..Alpha.                 84853 non-null object\n",
      "Occupation                            110349 non-null object\n",
      "EmploymentStatus                      111682 non-null object\n",
      "EmploymentStatusDuration              106312 non-null float64\n",
      "IsBorrowerHomeowner                   113937 non-null bool\n",
      "CurrentlyInGroup                      113937 non-null bool\n",
      "GroupKey                              13341 non-null object\n",
      "IncomeRange                           113937 non-null object\n",
      "IncomeVerifiable                      113937 non-null bool\n",
      "CreditScoreRangeLower                 113346 non-null float64\n",
      "CreditScoreRangeUpper                 113346 non-null float64\n",
      "CurrentCreditLines                    106333 non-null float64\n",
      "OpenCreditLines                       106333 non-null float64\n",
      "TotalInquiries                        112778 non-null float64\n",
      "CurrentDelinquencies                  113240 non-null float64\n",
      "RevolvingCreditBalance                106333 non-null float64\n",
      "AvailableBankcardCredit               106393 non-null float64\n",
      "TotalTrades                           106393 non-null float64\n",
      "TradesNeverDelinquent..percentage.    106393 non-null float64\n",
      "dtypes: bool(3), float64(11), object(5)\n",
      "memory usage: 14.2+ MB\n"
     ]
    }
   ],
   "source": [
    "# 载入数据集\n",
    "df = pd.read_csv('prosper_data_cos.csv')\n",
    "\n",
    "# 查看数据集特征\n",
    "df.info()"
   ]
  },
  {
   "cell_type": "code",
   "execution_count": 3,
   "metadata": {},
   "outputs": [],
   "source": [
    "# 删除缺失值过多的特征\n",
    "df.drop('GroupKey', axis=1, inplace=True)"
   ]
  },
  {
   "cell_type": "code",
   "execution_count": 4,
   "metadata": {},
   "outputs": [],
   "source": [
    "# 拷贝数据\n",
    "df_clean = df.copy()"
   ]
  },
  {
   "cell_type": "markdown",
   "metadata": {},
   "source": [
    "## 数据清洗  \n",
    "\n",
    "我们发现数据集中有不少数据缺少prosper信用评级，首先就是要将这些数据提取出来。"
   ]
  },
  {
   "cell_type": "code",
   "execution_count": 5,
   "metadata": {},
   "outputs": [
    {
     "name": "stdout",
     "output_type": "stream",
     "text": [
      "<class 'pandas.core.frame.DataFrame'>\n",
      "Int64Index: 29084 entries, 0 to 113927\n",
      "Data columns (total 18 columns):\n",
      "ProsperRating..Alpha.                 0 non-null object\n",
      "Occupation                            26829 non-null object\n",
      "EmploymentStatus                      26829 non-null object\n",
      "EmploymentStatusDuration              21478 non-null float64\n",
      "IsBorrowerHomeowner                   29084 non-null bool\n",
      "CurrentlyInGroup                      29084 non-null bool\n",
      "IncomeRange                           29084 non-null object\n",
      "IncomeVerifiable                      29084 non-null bool\n",
      "CreditScoreRangeLower                 28493 non-null float64\n",
      "CreditScoreRangeUpper                 28493 non-null float64\n",
      "CurrentCreditLines                    21480 non-null float64\n",
      "OpenCreditLines                       21480 non-null float64\n",
      "TotalInquiries                        27925 non-null float64\n",
      "CurrentDelinquencies                  28387 non-null float64\n",
      "RevolvingCreditBalance                21480 non-null float64\n",
      "AvailableBankcardCredit               21540 non-null float64\n",
      "TotalTrades                           21540 non-null float64\n",
      "TradesNeverDelinquent..percentage.    21540 non-null float64\n",
      "dtypes: bool(3), float64(11), object(4)\n",
      "memory usage: 3.6+ MB\n"
     ]
    }
   ],
   "source": [
    "df_noy = df_clean[df_clean['ProsperRating..Alpha.'].isnull()]\n",
    "\n",
    "df_noy.info()"
   ]
  },
  {
   "cell_type": "markdown",
   "metadata": {},
   "source": [
    "数据集中只保留信用评级有记录的条目。  \n",
    "令人惊喜的是，很多原先有缺失值的条目，都被剔除了！看来可以推测，这些特征和信用评级都具有很强的关系。"
   ]
  },
  {
   "cell_type": "code",
   "execution_count": 6,
   "metadata": {},
   "outputs": [
    {
     "name": "stdout",
     "output_type": "stream",
     "text": [
      "<class 'pandas.core.frame.DataFrame'>\n",
      "Int64Index: 84853 entries, 1 to 113936\n",
      "Data columns (total 18 columns):\n",
      "ProsperRating..Alpha.                 84853 non-null object\n",
      "Occupation                            83520 non-null object\n",
      "EmploymentStatus                      84853 non-null object\n",
      "EmploymentStatusDuration              84834 non-null float64\n",
      "IsBorrowerHomeowner                   84853 non-null bool\n",
      "CurrentlyInGroup                      84853 non-null bool\n",
      "IncomeRange                           84853 non-null object\n",
      "IncomeVerifiable                      84853 non-null bool\n",
      "CreditScoreRangeLower                 84853 non-null float64\n",
      "CreditScoreRangeUpper                 84853 non-null float64\n",
      "CurrentCreditLines                    84853 non-null float64\n",
      "OpenCreditLines                       84853 non-null float64\n",
      "TotalInquiries                        84853 non-null float64\n",
      "CurrentDelinquencies                  84853 non-null float64\n",
      "RevolvingCreditBalance                84853 non-null float64\n",
      "AvailableBankcardCredit               84853 non-null float64\n",
      "TotalTrades                           84853 non-null float64\n",
      "TradesNeverDelinquent..percentage.    84853 non-null float64\n",
      "dtypes: bool(3), float64(11), object(4)\n",
      "memory usage: 10.6+ MB\n"
     ]
    }
   ],
   "source": [
    "df_clean = df_clean[df_clean['ProsperRating..Alpha.'].notnull()]\n",
    "\n",
    "df_clean.info()"
   ]
  },
  {
   "cell_type": "markdown",
   "metadata": {},
   "source": [
    "## 数据观察"
   ]
  },
  {
   "cell_type": "code",
   "execution_count": 7,
   "metadata": {},
   "outputs": [
    {
     "data": {
      "text/html": [
       "<div>\n",
       "<style scoped>\n",
       "    .dataframe tbody tr th:only-of-type {\n",
       "        vertical-align: middle;\n",
       "    }\n",
       "\n",
       "    .dataframe tbody tr th {\n",
       "        vertical-align: top;\n",
       "    }\n",
       "\n",
       "    .dataframe thead th {\n",
       "        text-align: right;\n",
       "    }\n",
       "</style>\n",
       "<table border=\"1\" class=\"dataframe\">\n",
       "  <thead>\n",
       "    <tr style=\"text-align: right;\">\n",
       "      <th></th>\n",
       "      <th>ProsperRating..Alpha.</th>\n",
       "      <th>Occupation</th>\n",
       "      <th>EmploymentStatus</th>\n",
       "      <th>EmploymentStatusDuration</th>\n",
       "      <th>IsBorrowerHomeowner</th>\n",
       "      <th>CurrentlyInGroup</th>\n",
       "      <th>IncomeRange</th>\n",
       "      <th>IncomeVerifiable</th>\n",
       "      <th>CreditScoreRangeLower</th>\n",
       "      <th>CreditScoreRangeUpper</th>\n",
       "      <th>CurrentCreditLines</th>\n",
       "      <th>OpenCreditLines</th>\n",
       "      <th>TotalInquiries</th>\n",
       "      <th>CurrentDelinquencies</th>\n",
       "      <th>RevolvingCreditBalance</th>\n",
       "      <th>AvailableBankcardCredit</th>\n",
       "      <th>TotalTrades</th>\n",
       "      <th>TradesNeverDelinquent..percentage.</th>\n",
       "    </tr>\n",
       "  </thead>\n",
       "  <tbody>\n",
       "    <tr>\n",
       "      <th>16097</th>\n",
       "      <td>C</td>\n",
       "      <td>Executive</td>\n",
       "      <td>Employed</td>\n",
       "      <td>127.0</td>\n",
       "      <td>True</td>\n",
       "      <td>False</td>\n",
       "      <td>$100,000+</td>\n",
       "      <td>True</td>\n",
       "      <td>660.0</td>\n",
       "      <td>679.0</td>\n",
       "      <td>25.0</td>\n",
       "      <td>21.0</td>\n",
       "      <td>10.0</td>\n",
       "      <td>0.0</td>\n",
       "      <td>44992.0</td>\n",
       "      <td>2995.0</td>\n",
       "      <td>56.0</td>\n",
       "      <td>0.98</td>\n",
       "    </tr>\n",
       "    <tr>\n",
       "      <th>77522</th>\n",
       "      <td>E</td>\n",
       "      <td>Other</td>\n",
       "      <td>Employed</td>\n",
       "      <td>95.0</td>\n",
       "      <td>False</td>\n",
       "      <td>False</td>\n",
       "      <td>$25,000-49,999</td>\n",
       "      <td>False</td>\n",
       "      <td>600.0</td>\n",
       "      <td>619.0</td>\n",
       "      <td>16.0</td>\n",
       "      <td>14.0</td>\n",
       "      <td>5.0</td>\n",
       "      <td>0.0</td>\n",
       "      <td>11622.0</td>\n",
       "      <td>2077.0</td>\n",
       "      <td>22.0</td>\n",
       "      <td>0.81</td>\n",
       "    </tr>\n",
       "    <tr>\n",
       "      <th>74372</th>\n",
       "      <td>B</td>\n",
       "      <td>Professional</td>\n",
       "      <td>Employed</td>\n",
       "      <td>68.0</td>\n",
       "      <td>False</td>\n",
       "      <td>False</td>\n",
       "      <td>$75,000-99,999</td>\n",
       "      <td>True</td>\n",
       "      <td>680.0</td>\n",
       "      <td>699.0</td>\n",
       "      <td>10.0</td>\n",
       "      <td>9.0</td>\n",
       "      <td>5.0</td>\n",
       "      <td>0.0</td>\n",
       "      <td>10685.0</td>\n",
       "      <td>9165.0</td>\n",
       "      <td>17.0</td>\n",
       "      <td>0.94</td>\n",
       "    </tr>\n",
       "    <tr>\n",
       "      <th>3614</th>\n",
       "      <td>A</td>\n",
       "      <td>Construction</td>\n",
       "      <td>Self-employed</td>\n",
       "      <td>36.0</td>\n",
       "      <td>True</td>\n",
       "      <td>True</td>\n",
       "      <td>$50,000-74,999</td>\n",
       "      <td>False</td>\n",
       "      <td>740.0</td>\n",
       "      <td>759.0</td>\n",
       "      <td>11.0</td>\n",
       "      <td>11.0</td>\n",
       "      <td>0.0</td>\n",
       "      <td>0.0</td>\n",
       "      <td>17205.0</td>\n",
       "      <td>19595.0</td>\n",
       "      <td>19.0</td>\n",
       "      <td>1.00</td>\n",
       "    </tr>\n",
       "    <tr>\n",
       "      <th>22606</th>\n",
       "      <td>E</td>\n",
       "      <td>Professional</td>\n",
       "      <td>Full-time</td>\n",
       "      <td>93.0</td>\n",
       "      <td>False</td>\n",
       "      <td>False</td>\n",
       "      <td>$75,000-99,999</td>\n",
       "      <td>True</td>\n",
       "      <td>600.0</td>\n",
       "      <td>619.0</td>\n",
       "      <td>15.0</td>\n",
       "      <td>12.0</td>\n",
       "      <td>18.0</td>\n",
       "      <td>0.0</td>\n",
       "      <td>16970.0</td>\n",
       "      <td>5795.0</td>\n",
       "      <td>28.0</td>\n",
       "      <td>1.00</td>\n",
       "    </tr>\n",
       "    <tr>\n",
       "      <th>96212</th>\n",
       "      <td>B</td>\n",
       "      <td>Clerical</td>\n",
       "      <td>Employed</td>\n",
       "      <td>273.0</td>\n",
       "      <td>False</td>\n",
       "      <td>False</td>\n",
       "      <td>$25,000-49,999</td>\n",
       "      <td>True</td>\n",
       "      <td>760.0</td>\n",
       "      <td>779.0</td>\n",
       "      <td>10.0</td>\n",
       "      <td>10.0</td>\n",
       "      <td>0.0</td>\n",
       "      <td>0.0</td>\n",
       "      <td>14606.0</td>\n",
       "      <td>6154.0</td>\n",
       "      <td>29.0</td>\n",
       "      <td>0.96</td>\n",
       "    </tr>\n",
       "    <tr>\n",
       "      <th>54952</th>\n",
       "      <td>D</td>\n",
       "      <td>Teacher</td>\n",
       "      <td>Employed</td>\n",
       "      <td>14.0</td>\n",
       "      <td>False</td>\n",
       "      <td>False</td>\n",
       "      <td>$50,000-74,999</td>\n",
       "      <td>True</td>\n",
       "      <td>700.0</td>\n",
       "      <td>719.0</td>\n",
       "      <td>13.0</td>\n",
       "      <td>13.0</td>\n",
       "      <td>6.0</td>\n",
       "      <td>0.0</td>\n",
       "      <td>27860.0</td>\n",
       "      <td>18340.0</td>\n",
       "      <td>36.0</td>\n",
       "      <td>1.00</td>\n",
       "    </tr>\n",
       "    <tr>\n",
       "      <th>35417</th>\n",
       "      <td>A</td>\n",
       "      <td>Realtor</td>\n",
       "      <td>Employed</td>\n",
       "      <td>183.0</td>\n",
       "      <td>True</td>\n",
       "      <td>False</td>\n",
       "      <td>$75,000-99,999</td>\n",
       "      <td>False</td>\n",
       "      <td>700.0</td>\n",
       "      <td>719.0</td>\n",
       "      <td>36.0</td>\n",
       "      <td>35.0</td>\n",
       "      <td>8.0</td>\n",
       "      <td>0.0</td>\n",
       "      <td>9195.0</td>\n",
       "      <td>22470.0</td>\n",
       "      <td>60.0</td>\n",
       "      <td>0.93</td>\n",
       "    </tr>\n",
       "    <tr>\n",
       "      <th>68857</th>\n",
       "      <td>A</td>\n",
       "      <td>Retail Management</td>\n",
       "      <td>Employed</td>\n",
       "      <td>7.0</td>\n",
       "      <td>False</td>\n",
       "      <td>False</td>\n",
       "      <td>$25,000-49,999</td>\n",
       "      <td>True</td>\n",
       "      <td>740.0</td>\n",
       "      <td>759.0</td>\n",
       "      <td>3.0</td>\n",
       "      <td>3.0</td>\n",
       "      <td>4.0</td>\n",
       "      <td>0.0</td>\n",
       "      <td>960.0</td>\n",
       "      <td>6440.0</td>\n",
       "      <td>7.0</td>\n",
       "      <td>0.87</td>\n",
       "    </tr>\n",
       "    <tr>\n",
       "      <th>47852</th>\n",
       "      <td>E</td>\n",
       "      <td>Professional</td>\n",
       "      <td>Full-time</td>\n",
       "      <td>141.0</td>\n",
       "      <td>True</td>\n",
       "      <td>True</td>\n",
       "      <td>$50,000-74,999</td>\n",
       "      <td>False</td>\n",
       "      <td>640.0</td>\n",
       "      <td>659.0</td>\n",
       "      <td>8.0</td>\n",
       "      <td>8.0</td>\n",
       "      <td>3.0</td>\n",
       "      <td>5.0</td>\n",
       "      <td>5469.0</td>\n",
       "      <td>581.0</td>\n",
       "      <td>14.0</td>\n",
       "      <td>0.80</td>\n",
       "    </tr>\n",
       "  </tbody>\n",
       "</table>\n",
       "</div>"
      ],
      "text/plain": [
       "      ProsperRating..Alpha.         Occupation EmploymentStatus  \\\n",
       "16097                     C          Executive         Employed   \n",
       "77522                     E              Other         Employed   \n",
       "74372                     B       Professional         Employed   \n",
       "3614                      A       Construction    Self-employed   \n",
       "22606                     E       Professional        Full-time   \n",
       "96212                     B           Clerical         Employed   \n",
       "54952                     D            Teacher         Employed   \n",
       "35417                     A            Realtor         Employed   \n",
       "68857                     A  Retail Management         Employed   \n",
       "47852                     E       Professional        Full-time   \n",
       "\n",
       "       EmploymentStatusDuration  IsBorrowerHomeowner  CurrentlyInGroup  \\\n",
       "16097                     127.0                 True             False   \n",
       "77522                      95.0                False             False   \n",
       "74372                      68.0                False             False   \n",
       "3614                       36.0                 True              True   \n",
       "22606                      93.0                False             False   \n",
       "96212                     273.0                False             False   \n",
       "54952                      14.0                False             False   \n",
       "35417                     183.0                 True             False   \n",
       "68857                       7.0                False             False   \n",
       "47852                     141.0                 True              True   \n",
       "\n",
       "          IncomeRange  IncomeVerifiable  CreditScoreRangeLower  \\\n",
       "16097       $100,000+              True                  660.0   \n",
       "77522  $25,000-49,999             False                  600.0   \n",
       "74372  $75,000-99,999              True                  680.0   \n",
       "3614   $50,000-74,999             False                  740.0   \n",
       "22606  $75,000-99,999              True                  600.0   \n",
       "96212  $25,000-49,999              True                  760.0   \n",
       "54952  $50,000-74,999              True                  700.0   \n",
       "35417  $75,000-99,999             False                  700.0   \n",
       "68857  $25,000-49,999              True                  740.0   \n",
       "47852  $50,000-74,999             False                  640.0   \n",
       "\n",
       "       CreditScoreRangeUpper  CurrentCreditLines  OpenCreditLines  \\\n",
       "16097                  679.0                25.0             21.0   \n",
       "77522                  619.0                16.0             14.0   \n",
       "74372                  699.0                10.0              9.0   \n",
       "3614                   759.0                11.0             11.0   \n",
       "22606                  619.0                15.0             12.0   \n",
       "96212                  779.0                10.0             10.0   \n",
       "54952                  719.0                13.0             13.0   \n",
       "35417                  719.0                36.0             35.0   \n",
       "68857                  759.0                 3.0              3.0   \n",
       "47852                  659.0                 8.0              8.0   \n",
       "\n",
       "       TotalInquiries  CurrentDelinquencies  RevolvingCreditBalance  \\\n",
       "16097            10.0                   0.0                 44992.0   \n",
       "77522             5.0                   0.0                 11622.0   \n",
       "74372             5.0                   0.0                 10685.0   \n",
       "3614              0.0                   0.0                 17205.0   \n",
       "22606            18.0                   0.0                 16970.0   \n",
       "96212             0.0                   0.0                 14606.0   \n",
       "54952             6.0                   0.0                 27860.0   \n",
       "35417             8.0                   0.0                  9195.0   \n",
       "68857             4.0                   0.0                   960.0   \n",
       "47852             3.0                   5.0                  5469.0   \n",
       "\n",
       "       AvailableBankcardCredit  TotalTrades  \\\n",
       "16097                   2995.0         56.0   \n",
       "77522                   2077.0         22.0   \n",
       "74372                   9165.0         17.0   \n",
       "3614                   19595.0         19.0   \n",
       "22606                   5795.0         28.0   \n",
       "96212                   6154.0         29.0   \n",
       "54952                  18340.0         36.0   \n",
       "35417                  22470.0         60.0   \n",
       "68857                   6440.0          7.0   \n",
       "47852                    581.0         14.0   \n",
       "\n",
       "       TradesNeverDelinquent..percentage.  \n",
       "16097                                0.98  \n",
       "77522                                0.81  \n",
       "74372                                0.94  \n",
       "3614                                 1.00  \n",
       "22606                                1.00  \n",
       "96212                                0.96  \n",
       "54952                                1.00  \n",
       "35417                                0.93  \n",
       "68857                                0.87  \n",
       "47852                                0.80  "
      ]
     },
     "execution_count": 7,
     "metadata": {},
     "output_type": "execute_result"
    }
   ],
   "source": [
    "df_clean.sample(10)"
   ]
  },
  {
   "cell_type": "code",
   "execution_count": 8,
   "metadata": {},
   "outputs": [
    {
     "data": {
      "text/plain": [
       "$50,000-74,999    25627\n",
       "$25,000-49,999    24175\n",
       "$100,000+         15205\n",
       "$75,000-99,999    14498\n",
       "$1-24,999          4654\n",
       "Not employed        649\n",
       "$0                   45\n",
       "Name: IncomeRange, dtype: int64"
      ]
     },
     "execution_count": 8,
     "metadata": {},
     "output_type": "execute_result"
    }
   ],
   "source": [
    "df_clean.IncomeRange.value_counts()"
   ]
  },
  {
   "cell_type": "code",
   "execution_count": 9,
   "metadata": {},
   "outputs": [
    {
     "data": {
      "text/html": [
       "<div>\n",
       "<style scoped>\n",
       "    .dataframe tbody tr th:only-of-type {\n",
       "        vertical-align: middle;\n",
       "    }\n",
       "\n",
       "    .dataframe tbody tr th {\n",
       "        vertical-align: top;\n",
       "    }\n",
       "\n",
       "    .dataframe thead th {\n",
       "        text-align: right;\n",
       "    }\n",
       "</style>\n",
       "<table border=\"1\" class=\"dataframe\">\n",
       "  <thead>\n",
       "    <tr style=\"text-align: right;\">\n",
       "      <th></th>\n",
       "      <th>EmploymentStatusDuration</th>\n",
       "      <th>CreditScoreRangeLower</th>\n",
       "      <th>CreditScoreRangeUpper</th>\n",
       "      <th>CurrentCreditLines</th>\n",
       "      <th>OpenCreditLines</th>\n",
       "      <th>TotalInquiries</th>\n",
       "      <th>CurrentDelinquencies</th>\n",
       "      <th>RevolvingCreditBalance</th>\n",
       "      <th>AvailableBankcardCredit</th>\n",
       "      <th>TotalTrades</th>\n",
       "      <th>TradesNeverDelinquent..percentage.</th>\n",
       "    </tr>\n",
       "  </thead>\n",
       "  <tbody>\n",
       "    <tr>\n",
       "      <th>count</th>\n",
       "      <td>84834.000000</td>\n",
       "      <td>84853.000000</td>\n",
       "      <td>84853.000000</td>\n",
       "      <td>84853.000000</td>\n",
       "      <td>84853.000000</td>\n",
       "      <td>84853.000000</td>\n",
       "      <td>84853.000000</td>\n",
       "      <td>84853.000000</td>\n",
       "      <td>84853.000000</td>\n",
       "      <td>84853.000000</td>\n",
       "      <td>84853.000000</td>\n",
       "    </tr>\n",
       "    <tr>\n",
       "      <th>mean</th>\n",
       "      <td>103.055320</td>\n",
       "      <td>699.390240</td>\n",
       "      <td>718.390240</td>\n",
       "      <td>10.508032</td>\n",
       "      <td>9.528644</td>\n",
       "      <td>4.290396</td>\n",
       "      <td>0.322452</td>\n",
       "      <td>17940.237576</td>\n",
       "      <td>11400.695355</td>\n",
       "      <td>23.928571</td>\n",
       "      <td>0.905914</td>\n",
       "    </tr>\n",
       "    <tr>\n",
       "      <th>std</th>\n",
       "      <td>97.078884</td>\n",
       "      <td>47.095937</td>\n",
       "      <td>47.095937</td>\n",
       "      <td>5.317401</td>\n",
       "      <td>4.931802</td>\n",
       "      <td>3.827574</td>\n",
       "      <td>1.111996</td>\n",
       "      <td>31367.466293</td>\n",
       "      <td>18610.424333</td>\n",
       "      <td>11.607638</td>\n",
       "      <td>0.121353</td>\n",
       "    </tr>\n",
       "    <tr>\n",
       "      <th>min</th>\n",
       "      <td>0.000000</td>\n",
       "      <td>600.000000</td>\n",
       "      <td>619.000000</td>\n",
       "      <td>0.000000</td>\n",
       "      <td>0.000000</td>\n",
       "      <td>0.000000</td>\n",
       "      <td>0.000000</td>\n",
       "      <td>0.000000</td>\n",
       "      <td>0.000000</td>\n",
       "      <td>1.000000</td>\n",
       "      <td>0.080000</td>\n",
       "    </tr>\n",
       "    <tr>\n",
       "      <th>25%</th>\n",
       "      <td>30.000000</td>\n",
       "      <td>660.000000</td>\n",
       "      <td>679.000000</td>\n",
       "      <td>7.000000</td>\n",
       "      <td>6.000000</td>\n",
       "      <td>2.000000</td>\n",
       "      <td>0.000000</td>\n",
       "      <td>3824.000000</td>\n",
       "      <td>1148.000000</td>\n",
       "      <td>16.000000</td>\n",
       "      <td>0.850000</td>\n",
       "    </tr>\n",
       "    <tr>\n",
       "      <th>50%</th>\n",
       "      <td>74.000000</td>\n",
       "      <td>700.000000</td>\n",
       "      <td>719.000000</td>\n",
       "      <td>10.000000</td>\n",
       "      <td>9.000000</td>\n",
       "      <td>3.000000</td>\n",
       "      <td>0.000000</td>\n",
       "      <td>9323.000000</td>\n",
       "      <td>4574.000000</td>\n",
       "      <td>23.000000</td>\n",
       "      <td>0.950000</td>\n",
       "    </tr>\n",
       "    <tr>\n",
       "      <th>75%</th>\n",
       "      <td>148.000000</td>\n",
       "      <td>720.000000</td>\n",
       "      <td>739.000000</td>\n",
       "      <td>13.000000</td>\n",
       "      <td>12.000000</td>\n",
       "      <td>6.000000</td>\n",
       "      <td>0.000000</td>\n",
       "      <td>20339.000000</td>\n",
       "      <td>13910.000000</td>\n",
       "      <td>31.000000</td>\n",
       "      <td>1.000000</td>\n",
       "    </tr>\n",
       "    <tr>\n",
       "      <th>max</th>\n",
       "      <td>755.000000</td>\n",
       "      <td>880.000000</td>\n",
       "      <td>899.000000</td>\n",
       "      <td>59.000000</td>\n",
       "      <td>54.000000</td>\n",
       "      <td>78.000000</td>\n",
       "      <td>51.000000</td>\n",
       "      <td>999165.000000</td>\n",
       "      <td>498374.000000</td>\n",
       "      <td>122.000000</td>\n",
       "      <td>1.000000</td>\n",
       "    </tr>\n",
       "  </tbody>\n",
       "</table>\n",
       "</div>"
      ],
      "text/plain": [
       "       EmploymentStatusDuration  CreditScoreRangeLower  CreditScoreRangeUpper  \\\n",
       "count              84834.000000           84853.000000           84853.000000   \n",
       "mean                 103.055320             699.390240             718.390240   \n",
       "std                   97.078884              47.095937              47.095937   \n",
       "min                    0.000000             600.000000             619.000000   \n",
       "25%                   30.000000             660.000000             679.000000   \n",
       "50%                   74.000000             700.000000             719.000000   \n",
       "75%                  148.000000             720.000000             739.000000   \n",
       "max                  755.000000             880.000000             899.000000   \n",
       "\n",
       "       CurrentCreditLines  OpenCreditLines  TotalInquiries  \\\n",
       "count        84853.000000     84853.000000    84853.000000   \n",
       "mean            10.508032         9.528644        4.290396   \n",
       "std              5.317401         4.931802        3.827574   \n",
       "min              0.000000         0.000000        0.000000   \n",
       "25%              7.000000         6.000000        2.000000   \n",
       "50%             10.000000         9.000000        3.000000   \n",
       "75%             13.000000        12.000000        6.000000   \n",
       "max             59.000000        54.000000       78.000000   \n",
       "\n",
       "       CurrentDelinquencies  RevolvingCreditBalance  AvailableBankcardCredit  \\\n",
       "count          84853.000000            84853.000000             84853.000000   \n",
       "mean               0.322452            17940.237576             11400.695355   \n",
       "std                1.111996            31367.466293             18610.424333   \n",
       "min                0.000000                0.000000                 0.000000   \n",
       "25%                0.000000             3824.000000              1148.000000   \n",
       "50%                0.000000             9323.000000              4574.000000   \n",
       "75%                0.000000            20339.000000             13910.000000   \n",
       "max               51.000000           999165.000000            498374.000000   \n",
       "\n",
       "        TotalTrades  TradesNeverDelinquent..percentage.  \n",
       "count  84853.000000                        84853.000000  \n",
       "mean      23.928571                            0.905914  \n",
       "std       11.607638                            0.121353  \n",
       "min        1.000000                            0.080000  \n",
       "25%       16.000000                            0.850000  \n",
       "50%       23.000000                            0.950000  \n",
       "75%       31.000000                            1.000000  \n",
       "max      122.000000                            1.000000  "
      ]
     },
     "execution_count": 9,
     "metadata": {},
     "output_type": "execute_result"
    }
   ],
   "source": [
    "df_clean.describe()"
   ]
  },
  {
   "cell_type": "markdown",
   "metadata": {},
   "source": [
    "最长工作时间竟然约为63年！  \n",
    "\n",
    "## 数据切分"
   ]
  },
  {
   "cell_type": "code",
   "execution_count": 10,
   "metadata": {},
   "outputs": [],
   "source": [
    "# 切分数据----特征and标签\n",
    "prosper_rating = df_clean['ProsperRating..Alpha.']\n",
    "\n",
    "df_clean = df_clean.drop('ProsperRating..Alpha.', axis=1)"
   ]
  },
  {
   "cell_type": "markdown",
   "metadata": {},
   "source": [
    "**`问题`**  \n",
    "\n",
    "- Occupation, EmploymentStatusDuration有缺失值。  \n",
    "- 数值型的特征需要进行特征缩放。  \n",
    "- IncomeRange, Occupation, EmploymentStatus需要进行独热编码，处理成算法好识别的类型（这里为0和1的数字类型）。 \n",
    "- IncomeRange在进行独热编码之前需要定义一个更好理解的特征值。  \n",
    "- 布尔值的特征需要转换成数值类型。  "
   ]
  },
  {
   "cell_type": "markdown",
   "metadata": {},
   "source": [
    "## 缺失值的处理  "
   ]
  },
  {
   "cell_type": "code",
   "execution_count": 11,
   "metadata": {},
   "outputs": [
    {
     "data": {
      "text/plain": [
       "Other           21317\n",
       "Professional    10542\n",
       "Executive        3468\n",
       "Name: Occupation, dtype: int64"
      ]
     },
     "execution_count": 11,
     "metadata": {},
     "output_type": "execute_result"
    }
   ],
   "source": [
    "df_clean.Occupation.value_counts()[0:3]"
   ]
  },
  {
   "cell_type": "code",
   "execution_count": 12,
   "metadata": {},
   "outputs": [],
   "source": [
    "# 用Other填充Occupation缺失值\n",
    "df_clean = df_clean.fillna({'Occupation': 'Other'})\n",
    "\n",
    "# 用平均值填充EmploymentStatusDuration的缺失值\n",
    "df_clean = df_clean.fillna({'EmploymentStatusDuration': round(mean(df_clean.EmploymentStatusDuration))})"
   ]
  },
  {
   "cell_type": "markdown",
   "metadata": {},
   "source": [
    "## 特征处理"
   ]
  },
  {
   "cell_type": "code",
   "execution_count": 13,
   "metadata": {},
   "outputs": [],
   "source": [
    "# 创建查看数字型特征的特征分布函数\n",
    "def visuals():\n",
    "    fig, axes = plt.subplots(nrows=3, ncols=4, figsize=(16,12))\n",
    "\n",
    "    for ax, feature in zip(axes.flat, numeric_features):\n",
    "        ax.hist(df_clean[feature])\n",
    "        ax.set_title(feature)"
   ]
  },
  {
   "cell_type": "code",
   "execution_count": 14,
   "metadata": {},
   "outputs": [],
   "source": [
    "# 创建获取某类别特征的函数\n",
    "def get_features(ftype):\n",
    "    features = df_clean.dtypes[df_clean.dtypes == ftype].index.tolist()\n",
    "    return features"
   ]
  },
  {
   "cell_type": "code",
   "execution_count": 15,
   "metadata": {},
   "outputs": [
    {
     "data": {
      "image/png": "[encoded data removed]",
      "text/plain": [
       "<matplotlib.figure.Figure at 0x126b76d8>"
      ]
     },
     "metadata": {},
     "output_type": "display_data"
    }
   ],
   "source": [
    "# 得到数字型特征\n",
    "numeric_features = get_features('float64')\n",
    "\n",
    "#查看特征分布\n",
    "visuals()"
   ]
  },
  {
   "cell_type": "markdown",
   "metadata": {},
   "source": [
    "### 转换倾斜的连续特征"
   ]
  },
  {
   "cell_type": "code",
   "execution_count": 16,
   "metadata": {},
   "outputs": [
    {
     "data": {
      "image/png": "[encoded data removed]",
      "text/plain": [
       "<matplotlib.figure.Figure at 0x127efbe0>"
      ]
     },
     "metadata": {},
     "output_type": "display_data"
    }
   ],
   "source": [
    "# 进行log转换\n",
    "# 为避免出现算术错误，特征值统一加1处理\n",
    "df_clean[numeric_features] = df_clean[numeric_features].apply(lambda x:np.log(x+1))\n",
    "\n",
    "# 再次查看特征分布\n",
    "visuals()"
   ]
  },
  {
   "cell_type": "markdown",
   "metadata": {},
   "source": [
    "可以看到有两个特征依旧很“坚强”，但是其特征原范围确实很小，所以暂时不管。  \n",
    "\n",
    "### 归一化数字特征"
   ]
  },
  {
   "cell_type": "code",
   "execution_count": 17,
   "metadata": {},
   "outputs": [
    {
     "data": {
      "image/png": "[encoded data removed]",
      "text/plain": [
       "<matplotlib.figure.Figure at 0x12138cc0>"
      ]
     },
     "metadata": {},
     "output_type": "display_data"
    }
   ],
   "source": [
    "from sklearn.preprocessing import MinMaxScaler\n",
    "\n",
    "scaler = MinMaxScaler()\n",
    "df_clean[numeric_features] = scaler.fit_transform(df_clean[numeric_features])\n",
    "\n",
    "# 再次查看特征分布\n",
    "visuals()"
   ]
  },
  {
   "cell_type": "markdown",
   "metadata": {},
   "source": [
    "可以看到，依旧是转换好的类似正态分布，但是特征范围已经变了。  \n",
    "\n",
    "### 独热编码"
   ]
  },
  {
   "cell_type": "code",
   "execution_count": 18,
   "metadata": {},
   "outputs": [],
   "source": [
    "df_clean.IncomeRange = df_clean.IncomeRange.replace({'$0':'Not employed',  # 为了简化特征，统一归类\n",
    "                                                     '$1-24,999':'Very low',\n",
    "                                                     '$25,000-49,999':'Low',\n",
    "                                                     '$50,000-74,999':'Medium',\n",
    "                                                     '$75,000-99,999':'High',\n",
    "                                                     '$100,000+':'Very high'})\n",
    "\n",
    "# 得到str型变量\n",
    "str_features = get_features('object')\n",
    "\n",
    "# 独热编码\n",
    "df_clean= pd.get_dummies(df_clean)"
   ]
  },
  {
   "cell_type": "markdown",
   "metadata": {},
   "source": [
    "对布尔型变量不用进行独热编码，只要将TRUE->1，FALSE->0即可。"
   ]
  },
  {
   "cell_type": "code",
   "execution_count": 19,
   "metadata": {},
   "outputs": [],
   "source": [
    "# 得到bool型变量\n",
    "bool_features = get_features('bool')\n",
    "\n",
    "# 转换\n",
    "for feature in bool_features:\n",
    "    df_clean[feature] = df_clean[feature].apply(lambda x:1 if x else 0)"
   ]
  },
  {
   "cell_type": "code",
   "execution_count": 20,
   "metadata": {},
   "outputs": [
    {
     "data": {
      "text/html": [
       "<div>\n",
       "<style scoped>\n",
       "    .dataframe tbody tr th:only-of-type {\n",
       "        vertical-align: middle;\n",
       "    }\n",
       "\n",
       "    .dataframe tbody tr th {\n",
       "        vertical-align: top;\n",
       "    }\n",
       "\n",
       "    .dataframe thead th {\n",
       "        text-align: right;\n",
       "    }\n",
       "</style>\n",
       "<table border=\"1\" class=\"dataframe\">\n",
       "  <thead>\n",
       "    <tr style=\"text-align: right;\">\n",
       "      <th></th>\n",
       "      <th>EmploymentStatusDuration</th>\n",
       "      <th>IsBorrowerHomeowner</th>\n",
       "      <th>CurrentlyInGroup</th>\n",
       "      <th>IncomeVerifiable</th>\n",
       "      <th>CreditScoreRangeLower</th>\n",
       "      <th>CreditScoreRangeUpper</th>\n",
       "      <th>CurrentCreditLines</th>\n",
       "      <th>OpenCreditLines</th>\n",
       "      <th>TotalInquiries</th>\n",
       "      <th>CurrentDelinquencies</th>\n",
       "      <th>...</th>\n",
       "      <th>EmploymentStatus_Other</th>\n",
       "      <th>EmploymentStatus_Part-time</th>\n",
       "      <th>EmploymentStatus_Retired</th>\n",
       "      <th>EmploymentStatus_Self-employed</th>\n",
       "      <th>IncomeRange_High</th>\n",
       "      <th>IncomeRange_Low</th>\n",
       "      <th>IncomeRange_Medium</th>\n",
       "      <th>IncomeRange_Not employed</th>\n",
       "      <th>IncomeRange_Very high</th>\n",
       "      <th>IncomeRange_Very low</th>\n",
       "    </tr>\n",
       "  </thead>\n",
       "  <tbody>\n",
       "    <tr>\n",
       "      <th>1</th>\n",
       "      <td>0.574327</td>\n",
       "      <td>0</td>\n",
       "      <td>0</td>\n",
       "      <td>1</td>\n",
       "      <td>0.326744</td>\n",
       "      <td>0.325648</td>\n",
       "      <td>0.661412</td>\n",
       "      <td>0.675774</td>\n",
       "      <td>0.410065</td>\n",
       "      <td>0.000000</td>\n",
       "      <td>...</td>\n",
       "      <td>0</td>\n",
       "      <td>0</td>\n",
       "      <td>0</td>\n",
       "      <td>0</td>\n",
       "      <td>0</td>\n",
       "      <td>0</td>\n",
       "      <td>1</td>\n",
       "      <td>0</td>\n",
       "      <td>0</td>\n",
       "      <td>0</td>\n",
       "    </tr>\n",
       "    <tr>\n",
       "      <th>3</th>\n",
       "      <td>0.714570</td>\n",
       "      <td>1</td>\n",
       "      <td>0</td>\n",
       "      <td>1</td>\n",
       "      <td>0.751096</td>\n",
       "      <td>0.750210</td>\n",
       "      <td>0.437618</td>\n",
       "      <td>0.447120</td>\n",
       "      <td>0.158635</td>\n",
       "      <td>0.407324</td>\n",
       "      <td>...</td>\n",
       "      <td>0</td>\n",
       "      <td>0</td>\n",
       "      <td>0</td>\n",
       "      <td>0</td>\n",
       "      <td>0</td>\n",
       "      <td>1</td>\n",
       "      <td>0</td>\n",
       "      <td>0</td>\n",
       "      <td>0</td>\n",
       "      <td>0</td>\n",
       "    </tr>\n",
       "    <tr>\n",
       "      <th>4</th>\n",
       "      <td>0.574327</td>\n",
       "      <td>1</td>\n",
       "      <td>0</td>\n",
       "      <td>1</td>\n",
       "      <td>0.326744</td>\n",
       "      <td>0.325648</td>\n",
       "      <td>0.731676</td>\n",
       "      <td>0.747563</td>\n",
       "      <td>0.526974</td>\n",
       "      <td>0.000000</td>\n",
       "      <td>...</td>\n",
       "      <td>0</td>\n",
       "      <td>0</td>\n",
       "      <td>0</td>\n",
       "      <td>0</td>\n",
       "      <td>0</td>\n",
       "      <td>0</td>\n",
       "      <td>0</td>\n",
       "      <td>0</td>\n",
       "      <td>1</td>\n",
       "      <td>0</td>\n",
       "    </tr>\n",
       "    <tr>\n",
       "      <th>5</th>\n",
       "      <td>0.666689</td>\n",
       "      <td>1</td>\n",
       "      <td>0</td>\n",
       "      <td>1</td>\n",
       "      <td>0.547519</td>\n",
       "      <td>0.546317</td>\n",
       "      <td>0.754954</td>\n",
       "      <td>0.721271</td>\n",
       "      <td>0.251430</td>\n",
       "      <td>0.000000</td>\n",
       "      <td>...</td>\n",
       "      <td>0</td>\n",
       "      <td>0</td>\n",
       "      <td>0</td>\n",
       "      <td>0</td>\n",
       "      <td>0</td>\n",
       "      <td>0</td>\n",
       "      <td>0</td>\n",
       "      <td>0</td>\n",
       "      <td>1</td>\n",
       "      <td>0</td>\n",
       "    </tr>\n",
       "    <tr>\n",
       "      <th>6</th>\n",
       "      <td>0.777498</td>\n",
       "      <td>0</td>\n",
       "      <td>0</td>\n",
       "      <td>1</td>\n",
       "      <td>0.326744</td>\n",
       "      <td>0.325648</td>\n",
       "      <td>0.585660</td>\n",
       "      <td>0.518909</td>\n",
       "      <td>0.000000</td>\n",
       "      <td>0.000000</td>\n",
       "      <td>...</td>\n",
       "      <td>0</td>\n",
       "      <td>0</td>\n",
       "      <td>0</td>\n",
       "      <td>0</td>\n",
       "      <td>0</td>\n",
       "      <td>1</td>\n",
       "      <td>0</td>\n",
       "      <td>0</td>\n",
       "      <td>0</td>\n",
       "      <td>0</td>\n",
       "    </tr>\n",
       "    <tr>\n",
       "      <th>7</th>\n",
       "      <td>0.700718</td>\n",
       "      <td>0</td>\n",
       "      <td>0</td>\n",
       "      <td>1</td>\n",
       "      <td>0.402426</td>\n",
       "      <td>0.401239</td>\n",
       "      <td>0.475268</td>\n",
       "      <td>0.485587</td>\n",
       "      <td>0.648414</td>\n",
       "      <td>0.000000</td>\n",
       "      <td>...</td>\n",
       "      <td>0</td>\n",
       "      <td>0</td>\n",
       "      <td>0</td>\n",
       "      <td>0</td>\n",
       "      <td>0</td>\n",
       "      <td>1</td>\n",
       "      <td>0</td>\n",
       "      <td>0</td>\n",
       "      <td>0</td>\n",
       "      <td>0</td>\n",
       "    </tr>\n",
       "    <tr>\n",
       "      <th>8</th>\n",
       "      <td>0.844657</td>\n",
       "      <td>1</td>\n",
       "      <td>0</td>\n",
       "      <td>1</td>\n",
       "      <td>0.815578</td>\n",
       "      <td>0.814871</td>\n",
       "      <td>0.705942</td>\n",
       "      <td>0.707007</td>\n",
       "      <td>0.445345</td>\n",
       "      <td>0.000000</td>\n",
       "      <td>...</td>\n",
       "      <td>0</td>\n",
       "      <td>0</td>\n",
       "      <td>0</td>\n",
       "      <td>0</td>\n",
       "      <td>0</td>\n",
       "      <td>1</td>\n",
       "      <td>0</td>\n",
       "      <td>0</td>\n",
       "      <td>0</td>\n",
       "      <td>0</td>\n",
       "    </tr>\n",
       "    <tr>\n",
       "      <th>9</th>\n",
       "      <td>0.844657</td>\n",
       "      <td>1</td>\n",
       "      <td>0</td>\n",
       "      <td>1</td>\n",
       "      <td>0.815578</td>\n",
       "      <td>0.814871</td>\n",
       "      <td>0.705942</td>\n",
       "      <td>0.707007</td>\n",
       "      <td>0.445345</td>\n",
       "      <td>0.000000</td>\n",
       "      <td>...</td>\n",
       "      <td>0</td>\n",
       "      <td>0</td>\n",
       "      <td>0</td>\n",
       "      <td>0</td>\n",
       "      <td>0</td>\n",
       "      <td>1</td>\n",
       "      <td>0</td>\n",
       "      <td>0</td>\n",
       "      <td>0</td>\n",
       "      <td>0</td>\n",
       "    </tr>\n",
       "    <tr>\n",
       "      <th>10</th>\n",
       "      <td>0.861055</td>\n",
       "      <td>0</td>\n",
       "      <td>0</td>\n",
       "      <td>1</td>\n",
       "      <td>0.168473</td>\n",
       "      <td>0.167761</td>\n",
       "      <td>0.268324</td>\n",
       "      <td>0.274150</td>\n",
       "      <td>0.251430</td>\n",
       "      <td>0.175425</td>\n",
       "      <td>...</td>\n",
       "      <td>0</td>\n",
       "      <td>0</td>\n",
       "      <td>0</td>\n",
       "      <td>0</td>\n",
       "      <td>1</td>\n",
       "      <td>0</td>\n",
       "      <td>0</td>\n",
       "      <td>0</td>\n",
       "      <td>0</td>\n",
       "      <td>0</td>\n",
       "    </tr>\n",
       "    <tr>\n",
       "      <th>12</th>\n",
       "      <td>0.104578</td>\n",
       "      <td>0</td>\n",
       "      <td>0</td>\n",
       "      <td>1</td>\n",
       "      <td>0.326744</td>\n",
       "      <td>0.325648</td>\n",
       "      <td>0.562382</td>\n",
       "      <td>0.518909</td>\n",
       "      <td>0.368339</td>\n",
       "      <td>0.000000</td>\n",
       "      <td>...</td>\n",
       "      <td>0</td>\n",
       "      <td>0</td>\n",
       "      <td>0</td>\n",
       "      <td>0</td>\n",
       "      <td>0</td>\n",
       "      <td>1</td>\n",
       "      <td>0</td>\n",
       "      <td>0</td>\n",
       "      <td>0</td>\n",
       "      <td>0</td>\n",
       "    </tr>\n",
       "  </tbody>\n",
       "</table>\n",
       "<p>10 rows × 94 columns</p>\n",
       "</div>"
      ],
      "text/plain": [
       "    EmploymentStatusDuration  IsBorrowerHomeowner  CurrentlyInGroup  \\\n",
       "1                   0.574327                    0                 0   \n",
       "3                   0.714570                    1                 0   \n",
       "4                   0.574327                    1                 0   \n",
       "5                   0.666689                    1                 0   \n",
       "6                   0.777498                    0                 0   \n",
       "7                   0.700718                    0                 0   \n",
       "8                   0.844657                    1                 0   \n",
       "9                   0.844657                    1                 0   \n",
       "10                  0.861055                    0                 0   \n",
       "12                  0.104578                    0                 0   \n",
       "\n",
       "    IncomeVerifiable  CreditScoreRangeLower  CreditScoreRangeUpper  \\\n",
       "1                  1               0.326744               0.325648   \n",
       "3                  1               0.751096               0.750210   \n",
       "4                  1               0.326744               0.325648   \n",
       "5                  1               0.547519               0.546317   \n",
       "6                  1               0.326744               0.325648   \n",
       "7                  1               0.402426               0.401239   \n",
       "8                  1               0.815578               0.814871   \n",
       "9                  1               0.815578               0.814871   \n",
       "10                 1               0.168473               0.167761   \n",
       "12                 1               0.326744               0.325648   \n",
       "\n",
       "    CurrentCreditLines  OpenCreditLines  TotalInquiries  CurrentDelinquencies  \\\n",
       "1             0.661412         0.675774        0.410065              0.000000   \n",
       "3             0.437618         0.447120        0.158635              0.407324   \n",
       "4             0.731676         0.747563        0.526974              0.000000   \n",
       "5             0.754954         0.721271        0.251430              0.000000   \n",
       "6             0.585660         0.518909        0.000000              0.000000   \n",
       "7             0.475268         0.485587        0.648414              0.000000   \n",
       "8             0.705942         0.707007        0.445345              0.000000   \n",
       "9             0.705942         0.707007        0.445345              0.000000   \n",
       "10            0.268324         0.274150        0.251430              0.175425   \n",
       "12            0.562382         0.518909        0.368339              0.000000   \n",
       "\n",
       "            ...           EmploymentStatus_Other  EmploymentStatus_Part-time  \\\n",
       "1           ...                                0                           0   \n",
       "3           ...                                0                           0   \n",
       "4           ...                                0                           0   \n",
       "5           ...                                0                           0   \n",
       "6           ...                                0                           0   \n",
       "7           ...                                0                           0   \n",
       "8           ...                                0                           0   \n",
       "9           ...                                0                           0   \n",
       "10          ...                                0                           0   \n",
       "12          ...                                0                           0   \n",
       "\n",
       "    EmploymentStatus_Retired  EmploymentStatus_Self-employed  \\\n",
       "1                          0                               0   \n",
       "3                          0                               0   \n",
       "4                          0                               0   \n",
       "5                          0                               0   \n",
       "6                          0                               0   \n",
       "7                          0                               0   \n",
       "8                          0                               0   \n",
       "9                          0                               0   \n",
       "10                         0                               0   \n",
       "12                         0                               0   \n",
       "\n",
       "    IncomeRange_High  IncomeRange_Low  IncomeRange_Medium  \\\n",
       "1                  0                0                   1   \n",
       "3                  0                1                   0   \n",
       "4                  0                0                   0   \n",
       "5                  0                0                   0   \n",
       "6                  0                1                   0   \n",
       "7                  0                1                   0   \n",
       "8                  0                1                   0   \n",
       "9                  0                1                   0   \n",
       "10                 1                0                   0   \n",
       "12                 0                1                   0   \n",
       "\n",
       "    IncomeRange_Not employed  IncomeRange_Very high  IncomeRange_Very low  \n",
       "1                          0                      0                     0  \n",
       "3                          0                      0                     0  \n",
       "4                          0                      1                     0  \n",
       "5                          0                      1                     0  \n",
       "6                          0                      0                     0  \n",
       "7                          0                      0                     0  \n",
       "8                          0                      0                     0  \n",
       "9                          0                      0                     0  \n",
       "10                         0                      0                     0  \n",
       "12                         0                      0                     0  \n",
       "\n",
       "[10 rows x 94 columns]"
      ]
     },
     "execution_count": 20,
     "metadata": {},
     "output_type": "execute_result"
    }
   ],
   "source": [
    "df_clean.head(10)"
   ]
  },
  {
   "cell_type": "markdown",
   "metadata": {},
   "source": [
    "对于标签数据集，则要将评级转换为数据类型。"
   ]
  },
  {
   "cell_type": "code",
   "execution_count": 21,
   "metadata": {},
   "outputs": [],
   "source": [
    "prosper_rating = prosper_rating.replace({'HR':1,\n",
    "                                         'E':2,\n",
    "                                         'D':3,\n",
    "                                         'C':4,\n",
    "                                         'B':5,\n",
    "                                         'A':6,\n",
    "                                         'AA':7})"
   ]
  },
  {
   "cell_type": "code",
   "execution_count": 22,
   "metadata": {},
   "outputs": [
    {
     "data": {
      "text/plain": [
       "93576     1\n",
       "52904     3\n",
       "106413    2\n",
       "76595     3\n",
       "91864     4\n",
       "39003     5\n",
       "31702     5\n",
       "48025     6\n",
       "111817    5\n",
       "30441     4\n",
       "Name: ProsperRating..Alpha., dtype: int64"
      ]
     },
     "execution_count": 22,
     "metadata": {},
     "output_type": "execute_result"
    }
   ],
   "source": [
    "prosper_rating.sample(10)"
   ]
  },
  {
   "cell_type": "markdown",
   "metadata": {},
   "source": [
    "## 混洗和切分数据"
   ]
  },
  {
   "cell_type": "code",
   "execution_count": 66,
   "metadata": {},
   "outputs": [
    {
     "data": {
      "text/plain": [
       "4    18345\n",
       "5    15581\n",
       "6    14551\n",
       "3    14274\n",
       "2     9795\n",
       "1     6935\n",
       "7     5372\n",
       "Name: ProsperRating..Alpha., dtype: int64"
      ]
     },
     "execution_count": 66,
     "metadata": {},
     "output_type": "execute_result"
    }
   ],
   "source": [
    "prosper_rating.value_counts()"
   ]
  },
  {
   "cell_type": "code",
   "execution_count": 64,
   "metadata": {},
   "outputs": [
    {
     "name": "stdout",
     "output_type": "stream",
     "text": [
      "Training set has 67882 samples.\n",
      "Testing set has 16971 samples.\n"
     ]
    }
   ],
   "source": [
    "from sklearn.model_selection import train_test_split\n",
    "\n",
    "# 将数据切分成训练集和测试集\n",
    "X_train, X_test, y_train, y_test = train_test_split(df_clean, prosper_rating, test_size = 0.2, random_state = 0)\n",
    "\n",
    "# 显示切分的结果\n",
    "print \"Training set has {} samples.\".format(X_train.shape[0])\n",
    "print \"Testing set has {} samples.\".format(X_test.shape[0])"
   ]
  },
  {
   "cell_type": "markdown",
   "metadata": {},
   "source": [
    "## 模型的生成-优化-评估  \n",
    "这里由于特征空间非常大，且是一个分类问题，因此可以考虑使用随机森林模型来拟合数据。"
   ]
  },
  {
   "cell_type": "code",
   "execution_count": 58,
   "metadata": {},
   "outputs": [],
   "source": [
    "from sklearn.decomposition import PCA\n",
    "\n",
    "# 提取特征重要性\n",
    "importance = best_clf.feature_importances_\n",
    "\n",
    "# 降维和缩小特征空间结合\n",
    "pca = PCA(n_components=2)\n",
    "X_train_reduce = pca.fit_transform(X_train[X_train.columns.values[np.argsort(importance)[::-1][5:]]])\n",
    "X_test_reduce = pca.transform(X_test[X_test.columns.values[np.argsort(importance)[::-1][5:]]])"
   ]
  },
  {
   "cell_type": "code",
   "execution_count": 67,
   "metadata": {},
   "outputs": [
    {
     "name": "stdout",
     "output_type": "stream",
     "text": [
      "the accuracy score is ;0.988759906897\n",
      "the oob_score is :0.266904333991\n"
     ]
    }
   ],
   "source": [
    "from sklearn.ensemble import RandomForestClassifier\n",
    "from sklearn.model_selection import GridSearchCV\n",
    "from sklearn.metrics import make_scorer, accuracy_score\n",
    "\n",
    "clf = RandomForestClassifier(random_state = 0, oob_score=True)\n",
    "clf.fit(X_train, y_train)\n",
    "pred = clf.predict(X_train)\n",
    "\n",
    "print 'the accuracy score is ;{}'.format(accuracy_score(y_train,pred)) \n",
    "print 'the oob_score is :{}'.format(clf.oob_score_)"
   ]
  },
  {
   "cell_type": "markdown",
   "metadata": {},
   "source": [
    "算法在训练集上的准确率非常高，但是模型的泛化能力太差了，因此需要调参。但是这台笔记本太老了。。。我舍不得全部交给网格搜索来搞定（你没看错。。我舍不得。。）因此只能一步步进行调参。还好网上有[资料参考](https://blog.csdn.net/sun_shengyun/article/details/54618121)，感谢大神~"
   ]
  },
  {
   "cell_type": "code",
   "execution_count": 72,
   "metadata": {},
   "outputs": [
    {
     "name": "stderr",
     "output_type": "stream",
     "text": [
      "C:\\Users\\praguexue\\Anaconda2\\lib\\site-packages\\sklearn\\model_selection\\_search.py:667: DeprecationWarning: The grid_scores_ attribute was deprecated in version 0.18 in favor of the more elaborate cv_results_ attribute. The grid_scores_ attribute will not be available from 0.20\n",
      "  DeprecationWarning)\n"
     ]
    },
    {
     "data": {
      "text/plain": [
       "([mean: 0.32430, std: 0.00400, params: {'n_estimators': 30},\n",
       "  mean: 0.32627, std: 0.00393, params: {'n_estimators': 40},\n",
       "  mean: 0.32680, std: 0.00327, params: {'n_estimators': 50},\n",
       "  mean: 0.32610, std: 0.00298, params: {'n_estimators': 60},\n",
       "  mean: 0.32639, std: 0.00317, params: {'n_estimators': 70},\n",
       "  mean: 0.32633, std: 0.00263, params: {'n_estimators': 80}],\n",
       " {'n_estimators': 50},\n",
       " 0.3268023923867888)"
      ]
     },
     "execution_count": 72,
     "metadata": {},
     "output_type": "execute_result"
    }
   ],
   "source": [
    "param1 = {'n_estimators':np.arange(30,81,10)}\n",
    "clf1 = RandomForestClassifier(min_samples_split=500, min_samples_leaf=250, max_depth=10, max_features='sqrt', random_state=0)\n",
    "score = make_scorer(accuracy_score)\n",
    "grid1 = GridSearchCV(clf1, param1, score, cv=5)\n",
    "\n",
    "grid1.fit(X_train, y_train)\n",
    "\n",
    "grid1.grid_scores_, grid1.best_params_, grid1.best_score_"
   ]
  },
  {
   "cell_type": "markdown",
   "metadata": {},
   "source": [
    "可以看到虽然依旧很垃圾，但是已经离完美进了一步了，而且我们知道最佳的n_estimators。"
   ]
  },
  {
   "cell_type": "code",
   "execution_count": 74,
   "metadata": {},
   "outputs": [
    {
     "name": "stderr",
     "output_type": "stream",
     "text": [
      "C:\\Users\\praguexue\\Anaconda2\\lib\\site-packages\\sklearn\\model_selection\\_search.py:667: DeprecationWarning: The grid_scores_ attribute was deprecated in version 0.18 in favor of the more elaborate cv_results_ attribute. The grid_scores_ attribute will not be available from 0.20\n",
      "  DeprecationWarning)\n"
     ]
    },
    {
     "data": {
      "text/plain": [
       "([mean: 0.32745, std: 0.00424, params: {'min_samples_split': 600, 'max_depth': 15},\n",
       "  mean: 0.32501, std: 0.00342, params: {'min_samples_split': 700, 'max_depth': 15},\n",
       "  mean: 0.32347, std: 0.00355, params: {'min_samples_split': 800, 'max_depth': 15},\n",
       "  mean: 0.32442, std: 0.00343, params: {'min_samples_split': 900, 'max_depth': 15},\n",
       "  mean: 0.32272, std: 0.00206, params: {'min_samples_split': 1000, 'max_depth': 15},\n",
       "  mean: 0.32779, std: 0.00398, params: {'min_samples_split': 600, 'max_depth': 18},\n",
       "  mean: 0.32529, std: 0.00334, params: {'min_samples_split': 700, 'max_depth': 18},\n",
       "  mean: 0.32312, std: 0.00396, params: {'min_samples_split': 800, 'max_depth': 18},\n",
       "  mean: 0.32443, std: 0.00372, params: {'min_samples_split': 900, 'max_depth': 18},\n",
       "  mean: 0.32280, std: 0.00207, params: {'min_samples_split': 1000, 'max_depth': 18},\n",
       "  mean: 0.32744, std: 0.00440, params: {'min_samples_split': 600, 'max_depth': 21},\n",
       "  mean: 0.32529, std: 0.00334, params: {'min_samples_split': 700, 'max_depth': 21},\n",
       "  mean: 0.32312, std: 0.00396, params: {'min_samples_split': 800, 'max_depth': 21},\n",
       "  mean: 0.32443, std: 0.00372, params: {'min_samples_split': 900, 'max_depth': 21},\n",
       "  mean: 0.32280, std: 0.00207, params: {'min_samples_split': 1000, 'max_depth': 21}],\n",
       " {'max_depth': 18, 'min_samples_split': 600},\n",
       " 0.3277896003483976)"
      ]
     },
     "execution_count": 74,
     "metadata": {},
     "output_type": "execute_result"
    }
   ],
   "source": [
    "param2 = {'max_depth': np.arange(15,22,3),\n",
    "          'min_samples_split':np.arange(600,1001,100)}\n",
    "clf2 = RandomForestClassifier(n_estimators= 50, min_samples_leaf=250, max_features='sqrt' ,oob_score=True, random_state=0)\n",
    "grid2 = GridSearchCV(clf2, param2, score, cv=5, iid=False)\n",
    "\n",
    "grid2.fit(X_train, y_train)\n",
    "\n",
    "grid2.grid_scores_, grid2.best_params_, grid2.best_score_"
   ]
  },
  {
   "cell_type": "markdown",
   "metadata": {},
   "source": [
    "好了，继续其他参数的调参。因为min_samples_split和决策树中其他参数是[有关联的](https://blog.csdn.net/sun_shengyun/article/details/54618121)，因此我们不能直接就定下来。下面将这个参数和min_samples_leaf一起调。"
   ]
  },
  {
   "cell_type": "code",
   "execution_count": null,
   "metadata": {},
   "outputs": [],
   "source": [
    "param3 = {'min_samples_split':range(400,1001,200), 'min_samples_leaf':range(200,801,200)}\n",
    "clf3 = RandomForestClassifier(n_estimators= 50, max_depth=18, max_features='sqrt' ,oob_score=True, random_state=0)\n",
    "grid3 = GridSearchCV(clf3, param3, score, cv=5, iid=False)\n",
    "\n",
    "grid3.fit(X_train, y_train)\n",
    "\n",
    "grid3.grid_scores_, grid3.best_params_, grid3.best_score_"
   ]
  },
  {
   "cell_type": "markdown",
   "metadata": {},
   "source": [
    "最后对max_features进行调参。"
   ]
  },
  {
   "cell_type": "code",
   "execution_count": null,
   "metadata": {},
   "outputs": [],
   "source": [
    "param4 = {'max_features':range(3,11,2)}\n",
    "clf4 = RandomForestClassifier(n_estimators= 50, max_depth=15, min_samples_split=, min_samples_leaf=250 ,oob_score=True, random_state=0)\n",
    "grid4 = GridSearchCV(clf4, param4, score, cv=5, iid=False)\n",
    "\n",
    "grid4.fit(X_train, y_train)\n",
    "\n",
    "grid4.grid_scores_, grid4.best_params_, grid4.best_score_"
   ]
  },
  {
   "cell_type": "markdown",
   "metadata": {},
   "source": [
    "最后用得到的最佳参数们，再次拟合数据，得到最佳模型。"
   ]
  },
  {
   "cell_type": "code",
   "execution_count": null,
   "metadata": {},
   "outputs": [],
   "source": [
    "clf_best = RandomForestClassifier(n_estimators= 50, max_depth=15, min_samples_split=120,\n",
    "                                  min_samples_leaf=20, max_features=7 ,oob_score=True, random_state=0)\n",
    "clf_best.fit(X_train, y_train)\n",
    "print clf_best.oob_score_"
   ]
  },
  {
   "cell_type": "markdown",
   "metadata": {},
   "source": [
    "在测试集上，检验一下模型。"
   ]
  },
  {
   "cell_type": "code",
   "execution_count": null,
   "metadata": {},
   "outputs": [],
   "source": [
    "pred_test = clf_best.prdict(X_test)\n",
    "\n",
    "print 'the accuracy score is ;{}'.format(accuracy_score(y_test,pred_test)) "
   ]
  }
 ],
 "metadata": {
  "kernelspec": {
   "display_name": "Python 2",
   "language": "python",
   "name": "python2"
  },
  "language_info": {
   "codemirror_mode": {
    "name": "ipython",
    "version": 2
   },
   "file_extension": ".py",
   "mimetype": "text/x-python",
   "name": "python",
   "nbconvert_exporter": "python",
   "pygments_lexer": "ipython2",
   "version": "2.7.13"
  }
 },
 "nbformat": 4,
 "nbformat_minor": 2
}
